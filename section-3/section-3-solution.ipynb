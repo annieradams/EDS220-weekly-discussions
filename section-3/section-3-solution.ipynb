{
 "cells": [
  {
   "cell_type": "markdown",
   "id": "aa4a85b4-992e-4eed-b103-8e062b49f45b",
   "metadata": {},
   "source": [
    "## Discussion section: Week 3"
   ]
  },
  {
   "cell_type": "markdown",
   "id": "50d074ad-d83a-4128-ab1c-0f85696bf998",
   "metadata": {
    "tags": []
   },
   "source": [
    "#### Read in the data"
   ]
  },
  {
   "cell_type": "code",
   "execution_count": 2,
   "id": "2b7cc31c-9bf9-4e4d-ac2f-5fb616c54842",
   "metadata": {
    "tags": []
   },
   "outputs": [],
   "source": [
    "import pandas as pd\n",
    "import numpy as np"
   ]
  },
  {
   "cell_type": "code",
   "execution_count": 4,
   "id": "71cfe8bb-820f-4484-a310-c75e20ba541c",
   "metadata": {
    "tags": []
   },
   "outputs": [],
   "source": [
    "hares = pd.read_csv('../../data/55_Hare_Data_2012.txt')"
   ]
  },
  {
   "cell_type": "markdown",
   "id": "32b5a584-7392-44f5-8871-b75984b12821",
   "metadata": {},
   "source": [
    "### 4. Detecting Messy values"
   ]
  },
  {
   "cell_type": "markdown",
   "id": "00f4347c-310a-4e68-a969-f4d3d8a2540e",
   "metadata": {
    "tags": []
   },
   "source": [
    "a.\n",
    "| value    |definition|\n",
    "| -------- | -------  |\n",
    "|    m      |   male       |\n",
    "|     f     |   female       |\n",
    "|    m?      |  male not confirmed        |"
   ]
  },
  {
   "cell_type": "markdown",
   "id": "352183e0-3012-4ffa-873c-54a123c447f6",
   "metadata": {
    "tags": []
   },
   "source": [
    "b. Get the number of times each unique sex non-NA value appears.\n"
   ]
  },
  {
   "cell_type": "code",
   "execution_count": 10,
   "id": "be946e14-a38b-494c-9647-b3e56bd3f324",
   "metadata": {
    "tags": []
   },
   "outputs": [
    {
     "data": {
      "text/plain": [
       "F     1161\n",
       "M      730\n",
       "f      556\n",
       "m      515\n",
       "?       40\n",
       "F?      10\n",
       "f        4\n",
       "m        4\n",
       "f?       3\n",
       "M?       2\n",
       "m?       2\n",
       "pf       1\n",
       "Name: sex, dtype: int64"
      ]
     },
     "execution_count": 10,
     "metadata": {},
     "output_type": "execute_result"
    }
   ],
   "source": [
    "hares['sex'].value_counts(dropna = True)"
   ]
  },
  {
   "cell_type": "markdown",
   "id": "dec1ba9e-9251-433c-a19f-0130aea4a3d6",
   "metadata": {},
   "source": [
    "c. What is the purpose of the dropna parameter and what is its default value? Repeat step (a), this time adding the dropna=False parameter to value_counts()."
   ]
  },
  {
   "cell_type": "code",
   "execution_count": 12,
   "id": "6a8d6088-6355-4bf1-b599-f34684d36819",
   "metadata": {
    "tags": []
   },
   "outputs": [],
   "source": [
    "# help(pd.Series.value_counts)"
   ]
  },
  {
   "cell_type": "code",
   "execution_count": 13,
   "id": "76ba2c72-983c-441c-bdbc-aa0e8fd3bf77",
   "metadata": {
    "tags": []
   },
   "outputs": [
    {
     "data": {
      "text/plain": [
       "F      1161\n",
       "M       730\n",
       "f       556\n",
       "m       515\n",
       "NaN     352\n",
       "?        40\n",
       "F?       10\n",
       "f         4\n",
       "m         4\n",
       "f?        3\n",
       "M?        2\n",
       "m?        2\n",
       "pf        1\n",
       "Name: sex, dtype: int64"
      ]
     },
     "execution_count": 13,
     "metadata": {},
     "output_type": "execute_result"
    }
   ],
   "source": [
    "hares['sex'].value_counts(dropna = False)"
   ]
  },
  {
   "cell_type": "markdown",
   "id": "d3adaca2-8a33-483a-947d-e7f6263bbc60",
   "metadata": {},
   "source": [
    "Discuss with your team the output of the unique value counts. In particular:\n",
    "\n",
    "Do the values in the sex column correspond to the values declared in the metadata?\n",
    "What could have been potential causes for multiple codes?\n",
    "Are there seemingly repated values? If so, what could be the cause?\n"
   ]
  },
  {
   "cell_type": "markdown",
   "id": "67fc68b2-ee82-49a8-b49a-9b849025a841",
   "metadata": {},
   "source": [
    "### 6. Clean Values"
   ]
  },
  {
   "cell_type": "markdown",
   "id": "42bdd11d-5db1-4cff-a69a-1761454f7360",
   "metadata": {},
   "source": [
    "Create a new column called sex_simple using the numpy.select() function so that:\n",
    "\n",
    "\n",
    "- ‘F’, ‘f’, and ‘f_’ in the sex column get assigned to ‘female’,\n",
    "\n",
    "- ‘M’, ‘m’, and ‘m_’ get assigned to ‘male’, and\n",
    "\n",
    "- anything else gets assigned np.nan"
   ]
  },
  {
   "cell_type": "code",
   "execution_count": 6,
   "id": "b2fb03ae-25f0-47f6-88fb-691f383f268e",
   "metadata": {
    "tags": []
   },
   "outputs": [
    {
     "name": "stdout",
     "output_type": "stream",
     "text": [
      "0        nan\n",
      "1       male\n",
      "2       male\n",
      "3        nan\n",
      "4        nan\n",
      "        ... \n",
      "3375     nan\n",
      "3376     nan\n",
      "3377     nan\n",
      "3378     nan\n",
      "3379    male\n",
      "Name: sex_simple, Length: 3380, dtype: object\n"
     ]
    }
   ],
   "source": [
    "conditions=[ hares['sex'].isin(['F','f','f ']),  # (hares.sex == \"f\" | hares.sex == \"F\"|) \n",
    "          hares['sex'].isin(['M','m','m '])]\n",
    "\n",
    "gender=['female','male']\n",
    "\n",
    "#np.select(condlist,choicelist)\n",
    "hares['sex_simple']=np.select(conditions, gender, default=np.nan)\n",
    "\n",
    "print(hares['sex_simple'])"
   ]
  },
  {
   "cell_type": "markdown",
   "id": "25a34910-b320-40ab-9610-5c5d2d3ab30c",
   "metadata": {},
   "source": [
    "### 7. Calculate mean weight"
   ]
  },
  {
   "cell_type": "code",
   "execution_count": 7,
   "id": "55cc33de-c67d-4f9c-b968-4c9f55fd763e",
   "metadata": {
    "tags": []
   },
   "outputs": [],
   "source": [
    "#a. Use `groupby()` to calculate the mean weight by sex using the new column. "
   ]
  },
  {
   "cell_type": "code",
   "execution_count": 20,
   "id": "313410b2-88f7-4477-9a6a-8c1817603f0e",
   "metadata": {
    "tags": []
   },
   "outputs": [
    {
     "data": {
      "text/plain": [
       "sex_simple\n",
       "female    1365.164792\n",
       "male      1349.935542\n",
       "nan       1193.364055\n",
       "Name: weight, dtype: float64"
      ]
     },
     "execution_count": 20,
     "metadata": {},
     "output_type": "execute_result"
    }
   ],
   "source": [
    "hares.groupby('sex_simple').weight.mean()"
   ]
  },
  {
   "cell_type": "markdown",
   "id": "a209ae2d-7bda-4398-9580-ed66f3fdcf2d",
   "metadata": {},
   "source": [
    "8."
   ]
  },
  {
   "cell_type": "code",
   "execution_count": null,
   "id": "24a7512f-3414-479e-97d6-e6b7f74b05f9",
   "metadata": {},
   "outputs": [],
   "source": [
    "conditions=[ hares['sex'].isin(['F','f','f ']),  # (hares.sex == \"f\" | hares.sex == \"F\"|) \n",
    "          hares['sex'].isin(['M','m','m '])]\n",
    "\n",
    "gender=['female','male']\n",
    "\n",
    "\n",
    "hares['sex_simple']=np.select(conditions, gender, default=np.nan)\n",
    "hares.groupby('sex_simple').weight.mean()"
   ]
  }
 ],
 "metadata": {
  "kernelspec": {
   "display_name": "Anaconda 3 (Base)",
   "language": "python",
   "name": "base"
  },
  "language_info": {
   "codemirror_mode": {
    "name": "ipython",
    "version": 3
   },
   "file_extension": ".py",
   "mimetype": "text/x-python",
   "name": "python",
   "nbconvert_exporter": "python",
   "pygments_lexer": "ipython3",
   "version": "3.9.13"
  }
 },
 "nbformat": 4,
 "nbformat_minor": 5
}
