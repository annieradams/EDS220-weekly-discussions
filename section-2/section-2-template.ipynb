{
 "cells": [
  {
   "cell_type": "markdown",
   "id": "e5caebad-b04f-406b-b7d6-1ec19234441e",
   "metadata": {},
   "source": [
    "## Discussion Section : Week 2"
   ]
  },
  {
   "cell_type": "code",
   "execution_count": null,
   "id": "52ead8c7-bbe6-4a37-ba27-3cc28e97b854",
   "metadata": {
    "tags": []
   },
   "outputs": [],
   "source": [
    "# Import libraries\n",
    "import pandas as pd"
   ]
  },
  {
   "cell_type": "code",
   "execution_count": null,
   "id": "9a2cd9ed-18b3-4e7d-869d-54ff9c118c07",
   "metadata": {
    "tags": []
   },
   "outputs": [],
   "source": [
    "# Read in data \n",
    "df = pd.read_csv(\"../../data/Colorado_River_Basin_Water_Conflict_Table.csv\")"
   ]
  },
  {
   "cell_type": "markdown",
   "id": "b596ec38-fe80-4696-abe7-d050dd8c79ad",
   "metadata": {},
   "source": [
    "### Preliminary Data Exploration"
   ]
  },
  {
   "cell_type": "code",
   "execution_count": null,
   "id": "f2e2ddc6-0ae0-400a-ae5c-f515951a2cf6",
   "metadata": {
    "tags": []
   },
   "outputs": [],
   "source": [
    "# Set pandas to display all columns in the dataframe \n",
    "\n",
    "pd.set_option(\"display.max_columns\", None)\n",
    "df"
   ]
  },
  {
   "cell_type": "code",
   "execution_count": null,
   "id": "1445bc8b-6226-4a29-9edb-ee0c82f9c66d",
   "metadata": {
    "tags": []
   },
   "outputs": [],
   "source": [
    "# Use pandas methods to obtain preliminary information \n",
    "# and explore this data frame in at least four different ways.\n",
    "\n",
    "\n",
    "df.info()\n"
   ]
  },
  {
   "cell_type": "markdown",
   "id": "6b137641-72f2-4a46-b76f-445d696e1c6f",
   "metadata": {},
   "source": [
    "### String Accessor for pandas.series"
   ]
  },
  {
   "cell_type": "code",
   "execution_count": null,
   "id": "779ef9f8-8514-4654-8636-e0acdb035d62",
   "metadata": {
    "tags": []
   },
   "outputs": [],
   "source": [
    "import numpy as np\n",
    "import pandas as pd \n",
    "\n",
    "# Example series\n",
    "s = pd.Series(['California; Nevada', 'Arizona', np.nan, 'Nevada; Utah'])\n",
    "s"
   ]
  },
  {
   "cell_type": "code",
   "execution_count": null,
   "id": "3f87c875-955a-4c44-99d7-099a487d7842",
   "metadata": {
    "tags": []
   },
   "outputs": [],
   "source": [
    "# str accessor (doesn't do anything by itself)\n",
    "s.str"
   ]
  },
  {
   "cell_type": "code",
   "execution_count": null,
   "id": "1811a07c-1fb1-4719-979c-c9e622abc660",
   "metadata": {
    "tags": []
   },
   "outputs": [],
   "source": [
    "# Use str accessor with additional methods to perform string operations\n",
    "# .split splits strings by ';' and expands output into separate columns\n",
    "s.str.split(';', expand=True)"
   ]
  },
  {
   "cell_type": "code",
   "execution_count": null,
   "id": "87cdf479-4011-4142-b8cf-64001f7c6c0a",
   "metadata": {
    "tags": []
   },
   "outputs": [],
   "source": [
    "# Use stack() method to flatten the data frame into a series\n",
    "# default is to drop NAs and None from result\n",
    "d = s.str.split(';', expand=True).stack()\n"
   ]
  },
  {
   "cell_type": "markdown",
   "id": "3f5d07e5-8aef-4cfe-a3b8-c521025fa63b",
   "metadata": {},
   "source": [
    "### Examine the state codes"
   ]
  },
  {
   "cell_type": "markdown",
   "id": "34573260-46fe-4d83-9464-44b83b420ae9",
   "metadata": {},
   "source": [
    "What are the unique values in the States column once filtering the dataset for states that have a water conflict? What could be a challenge to writing code to find which states are listed (without repetition)?"
   ]
  },
  {
   "cell_type": "code",
   "execution_count": null,
   "id": "4186dd36-0e05-4abe-a619-e1f73dd5d830",
   "metadata": {},
   "outputs": [],
   "source": [
    "\n"
   ]
  },
  {
   "cell_type": "markdown",
   "id": "0651f7b6-890e-4888-b3e6-ec3f54cc7b96",
   "metadata": {},
   "source": [
    "### Exploratory Wrangling"
   ]
  },
  {
   "cell_type": "markdown",
   "id": "d6bedd33-4f46-4bb2-b1b5-faa616bf5a1b",
   "metadata": {},
   "source": [
    "i. select the State column from the `df` data frame for states that have a water conflict"
   ]
  },
  {
   "cell_type": "code",
   "execution_count": null,
   "id": "9f10a8ec-6ed2-4fae-8989-0ac5374a73d6",
   "metadata": {
    "tags": []
   },
   "outputs": [],
   "source": []
  },
  {
   "cell_type": "markdown",
   "id": "14cd0eaf-9477-42b8-a998-08e9c2056f36",
   "metadata": {},
   "source": [
    "ii. split the strings in the column by the delimeter ; into different columns\n"
   ]
  },
  {
   "cell_type": "code",
   "execution_count": null,
   "id": "ac72e3c7-43d2-47cb-945e-6e203330e26f",
   "metadata": {
    "tags": []
   },
   "outputs": [],
   "source": [
    "# Split the strings in the column by the delimeter ; into different columns\n"
   ]
  },
  {
   "cell_type": "markdown",
   "id": "63ce0a35-1273-4236-97e6-210f4b3d68a8",
   "metadata": {},
   "source": [
    "iii. Stack the results of the resulting data frame into a single pandas.Series\n"
   ]
  },
  {
   "cell_type": "code",
   "execution_count": null,
   "id": "1957ae83-1d0f-4252-9988-461831e4ad17",
   "metadata": {
    "tags": []
   },
   "outputs": [],
   "source": [
    "# Stack the results of the resulting data frame into a single pandas.Series\n"
   ]
  },
  {
   "cell_type": "markdown",
   "id": "c55b5a54-977a-4002-9ae2-cb7e576482e4",
   "metadata": {},
   "source": [
    "### Find unique state codes"
   ]
  },
  {
   "cell_type": "markdown",
   "id": "684415c4-8578-4c12-ac3f-0f3bd090c6da",
   "metadata": {},
   "source": [
    "iv. find the unique string values in the resulting series"
   ]
  },
  {
   "cell_type": "code",
   "execution_count": null,
   "id": "98ed0ad8-645e-469d-b0a8-6f7db1f5b333",
   "metadata": {
    "tags": []
   },
   "outputs": [],
   "source": [
    "# Update your code to obtain a list of codes (without repetition) of the states mentioned \n",
    "# in the news articles about water conflicts in the Colorado River Basin. \n",
    "# Hint: str.strip().\n",
    "\n"
   ]
  },
  {
   "cell_type": "markdown",
   "id": "4d8eda03-162f-4898-959c-9b588c5b8c73",
   "metadata": {},
   "source": [
    "### Bonus! "
   ]
  },
  {
   "cell_type": "markdown",
   "id": "af8c3d58-8974-453a-927a-f6c135a82c81",
   "metadata": {},
   "source": [
    "How many articles mention each state?"
   ]
  },
  {
   "cell_type": "code",
   "execution_count": null,
   "id": "91177db5-cd8f-454d-b684-1f2b3e1e0c70",
   "metadata": {
    "tags": []
   },
   "outputs": [],
   "source": [
    "#Bonus: How many articles mention each state?\n",
    "\n"
   ]
  }
 ],
 "metadata": {
  "kernelspec": {
   "display_name": "Anaconda 3 (Base)",
   "language": "python",
   "name": "base"
  },
  "language_info": {
   "codemirror_mode": {
    "name": "ipython",
    "version": 3
   },
   "file_extension": ".py",
   "mimetype": "text/x-python",
   "name": "python",
   "nbconvert_exporter": "python",
   "pygments_lexer": "ipython3",
   "version": "3.9.13"
  }
 },
 "nbformat": 4,
 "nbformat_minor": 5
}
