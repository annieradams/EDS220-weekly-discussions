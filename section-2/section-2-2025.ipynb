{
 "cells": [
  {
   "cell_type": "markdown",
   "id": "e5caebad-b04f-406b-b7d6-1ec19234441e",
   "metadata": {},
   "source": [
    "## Discussion Section : Week 2"
   ]
  },
  {
   "cell_type": "code",
   "execution_count": 1,
   "id": "52ead8c7-bbe6-4a37-ba27-3cc28e97b854",
   "metadata": {
    "tags": []
   },
   "outputs": [],
   "source": [
    "# Import libraries\n",
    "import pandas as pd"
   ]
  },
  {
   "cell_type": "code",
   "execution_count": 2,
   "id": "9a2cd9ed-18b3-4e7d-869d-54ff9c118c07",
   "metadata": {
    "tags": []
   },
   "outputs": [],
   "source": [
    "# Read in data \n",
    "df = pd.read_csv(\"../../data/Colorado_River_Basin_Water_Conflict_Table.csv\")"
   ]
  },
  {
   "cell_type": "markdown",
   "id": "b596ec38-fe80-4696-abe7-d050dd8c79ad",
   "metadata": {},
   "source": [
    "### Preliminary Data Exploration"
   ]
  },
  {
   "cell_type": "markdown",
   "id": "4170605d-f460-457f-9e98-190a852c7a9b",
   "metadata": {},
   "source": [
    "## Lucian"
   ]
  },
  {
   "cell_type": "code",
   "execution_count": 3,
   "id": "f2e2ddc6-0ae0-400a-ae5c-f515951a2cf6",
   "metadata": {
    "tags": []
   },
   "outputs": [],
   "source": [
    "# Set pandas to display all columns in the dataframe \n",
    "\n",
    "pd.set_option(\"display.max_columns\", None)\n"
   ]
  },
  {
   "cell_type": "code",
   "execution_count": 11,
   "id": "1445bc8b-6226-4a29-9edb-ee0c82f9c66d",
   "metadata": {
    "tags": []
   },
   "outputs": [
    {
     "data": {
      "text/html": [
       "<div>\n",
       "<style scoped>\n",
       "    .dataframe tbody tr th:only-of-type {\n",
       "        vertical-align: middle;\n",
       "    }\n",
       "\n",
       "    .dataframe tbody tr th {\n",
       "        vertical-align: top;\n",
       "    }\n",
       "\n",
       "    .dataframe thead th {\n",
       "        text-align: right;\n",
       "    }\n",
       "</style>\n",
       "<table border=\"1\" class=\"dataframe\">\n",
       "  <thead>\n",
       "    <tr style=\"text-align: right;\">\n",
       "      <th></th>\n",
       "      <th>Event</th>\n",
       "      <th>Search Source</th>\n",
       "      <th>Newspaper</th>\n",
       "      <th>Article Title</th>\n",
       "      <th>Duplicate</th>\n",
       "      <th>Report Date</th>\n",
       "      <th>Report Year</th>\n",
       "      <th>Event Date</th>\n",
       "      <th>Event Day</th>\n",
       "      <th>Event Month</th>\n",
       "      <th>Event Year</th>\n",
       "      <th>Conflict Present</th>\n",
       "      <th>Crisis Present</th>\n",
       "      <th>Basin</th>\n",
       "      <th>HUC6</th>\n",
       "      <th>HUC2</th>\n",
       "      <th>Place</th>\n",
       "      <th>County</th>\n",
       "      <th>County FIPS</th>\n",
       "      <th>State</th>\n",
       "      <th>State FIPS</th>\n",
       "      <th>Urban or Rural</th>\n",
       "      <th>Issue Type</th>\n",
       "      <th>Event Summary</th>\n",
       "      <th>Stakeholders</th>\n",
       "      <th>Intensity Value</th>\n",
       "      <th>Comments</th>\n",
       "      <th>Related Observation Themes</th>\n",
       "      <th>Article Text Search - water quality</th>\n",
       "      <th>Article Text Search - invasive species</th>\n",
       "      <th>Article Text Search - conservation</th>\n",
       "      <th>Article Text Search - drought</th>\n",
       "      <th>Article Text Search - flood</th>\n",
       "      <th>Article Text Search - ground water depletion</th>\n",
       "      <th>Article Text Search - depletion</th>\n",
       "      <th>Article Text Search - infrastructure</th>\n",
       "      <th>Article Text Search - fish passage</th>\n",
       "      <th>Article Text Search - instream water rights</th>\n",
       "      <th>Article Text Search - water rights</th>\n",
       "      <th>Article Text Search - intergovernmental</th>\n",
       "      <th>Article Text Search - water transfers</th>\n",
       "      <th>Article Text Search - navigation</th>\n",
       "      <th>Article Text Search - fish</th>\n",
       "      <th>Article Text Search - invasive</th>\n",
       "      <th>Article Text Search - diversion</th>\n",
       "      <th>Article Text Search - water diversion</th>\n",
       "      <th>Article Text Search - instream</th>\n",
       "      <th>Article Text Search - aquatic</th>\n",
       "    </tr>\n",
       "  </thead>\n",
       "  <tbody>\n",
       "    <tr>\n",
       "      <th>0</th>\n",
       "      <td>1</td>\n",
       "      <td>USGS1-50.docx</td>\n",
       "      <td>The Durango Herald (Colorado)</td>\n",
       "      <td>Tribes assert water rights on Colorado River B...</td>\n",
       "      <td>False</td>\n",
       "      <td>7-Apr-22</td>\n",
       "      <td>2022.0</td>\n",
       "      <td>NaN</td>\n",
       "      <td>NaN</td>\n",
       "      <td>4.0</td>\n",
       "      <td>2022.0</td>\n",
       "      <td>Y</td>\n",
       "      <td>N</td>\n",
       "      <td>Upper San Juan</td>\n",
       "      <td>140801</td>\n",
       "      <td>14</td>\n",
       "      <td>Durango, CO</td>\n",
       "      <td>La Plata</td>\n",
       "      <td>8067.0</td>\n",
       "      <td>CO</td>\n",
       "      <td>8</td>\n",
       "      <td>Both</td>\n",
       "      <td>Water rights more generally</td>\n",
       "      <td>Ute Mountain and Southern Ute representatives ...</td>\n",
       "      <td>Tribal Nations, State Government, Federal Gove...</td>\n",
       "      <td>2.0</td>\n",
       "      <td>The article highlights calls for negotiation b...</td>\n",
       "      <td>Lack of tribal representation</td>\n",
       "      <td>0</td>\n",
       "      <td>0</td>\n",
       "      <td>3</td>\n",
       "      <td>7</td>\n",
       "      <td>0</td>\n",
       "      <td>0</td>\n",
       "      <td>0</td>\n",
       "      <td>1</td>\n",
       "      <td>0</td>\n",
       "      <td>0</td>\n",
       "      <td>17</td>\n",
       "      <td>0</td>\n",
       "      <td>0</td>\n",
       "      <td>0</td>\n",
       "      <td>0</td>\n",
       "      <td>0</td>\n",
       "      <td>0</td>\n",
       "      <td>0</td>\n",
       "      <td>0</td>\n",
       "      <td>0</td>\n",
       "    </tr>\n",
       "    <tr>\n",
       "      <th>1</th>\n",
       "      <td>2</td>\n",
       "      <td>USGS1-50.docx</td>\n",
       "      <td>Journal, The (Cortez, Dolores, Mancos, CO)</td>\n",
       "      <td>Native American tribes assert water rights on ...</td>\n",
       "      <td>False</td>\n",
       "      <td>7-Apr-22</td>\n",
       "      <td>2022.0</td>\n",
       "      <td>NaN</td>\n",
       "      <td>NaN</td>\n",
       "      <td>4.0</td>\n",
       "      <td>2022.0</td>\n",
       "      <td>Y</td>\n",
       "      <td>N</td>\n",
       "      <td>Upper San Juan</td>\n",
       "      <td>140801</td>\n",
       "      <td>14</td>\n",
       "      <td>Durango, CO</td>\n",
       "      <td>La Plata</td>\n",
       "      <td>8067.0</td>\n",
       "      <td>CO</td>\n",
       "      <td>8</td>\n",
       "      <td>Both</td>\n",
       "      <td>Water rights more generally</td>\n",
       "      <td>Ute Mountain and Southern Ute representatives ...</td>\n",
       "      <td>Southern Ute Indian Tribe, Ute Mountain Tribe,...</td>\n",
       "      <td>2.0</td>\n",
       "      <td>The article highlights calls for negotiation b...</td>\n",
       "      <td>Lack of tribal representation</td>\n",
       "      <td>0</td>\n",
       "      <td>0</td>\n",
       "      <td>2</td>\n",
       "      <td>7</td>\n",
       "      <td>0</td>\n",
       "      <td>0</td>\n",
       "      <td>0</td>\n",
       "      <td>1</td>\n",
       "      <td>0</td>\n",
       "      <td>0</td>\n",
       "      <td>17</td>\n",
       "      <td>0</td>\n",
       "      <td>0</td>\n",
       "      <td>0</td>\n",
       "      <td>0</td>\n",
       "      <td>0</td>\n",
       "      <td>0</td>\n",
       "      <td>0</td>\n",
       "      <td>0</td>\n",
       "      <td>0</td>\n",
       "    </tr>\n",
       "    <tr>\n",
       "      <th>2</th>\n",
       "      <td>3</td>\n",
       "      <td>USGS1-50.docx</td>\n",
       "      <td>The Salt Lake Tribune</td>\n",
       "      <td>'Very positive change.' New Utah law will be a...</td>\n",
       "      <td>False</td>\n",
       "      <td>17-Mar-22</td>\n",
       "      <td>2022.0</td>\n",
       "      <td>NaN</td>\n",
       "      <td>NaN</td>\n",
       "      <td>3.0</td>\n",
       "      <td>2022.0</td>\n",
       "      <td>N</td>\n",
       "      <td>Y</td>\n",
       "      <td>Great Salt Lake</td>\n",
       "      <td>160203</td>\n",
       "      <td>16</td>\n",
       "      <td>Great Salt Lake</td>\n",
       "      <td>NaN</td>\n",
       "      <td>NaN</td>\n",
       "      <td>UT</td>\n",
       "      <td>49</td>\n",
       "      <td>Both</td>\n",
       "      <td>Instream water rights</td>\n",
       "      <td>A bill is proposed in Utah that would expand t...</td>\n",
       "      <td>State Government, Any Water Rights Holder, Agr...</td>\n",
       "      <td>3.0</td>\n",
       "      <td>The event is the proposal of the bill at the s...</td>\n",
       "      <td>Dishonoring the absent</td>\n",
       "      <td>0</td>\n",
       "      <td>0</td>\n",
       "      <td>1</td>\n",
       "      <td>2</td>\n",
       "      <td>0</td>\n",
       "      <td>0</td>\n",
       "      <td>0</td>\n",
       "      <td>0</td>\n",
       "      <td>0</td>\n",
       "      <td>0</td>\n",
       "      <td>12</td>\n",
       "      <td>0</td>\n",
       "      <td>0</td>\n",
       "      <td>0</td>\n",
       "      <td>1</td>\n",
       "      <td>0</td>\n",
       "      <td>0</td>\n",
       "      <td>0</td>\n",
       "      <td>12</td>\n",
       "      <td>1</td>\n",
       "    </tr>\n",
       "    <tr>\n",
       "      <th>3</th>\n",
       "      <td>4</td>\n",
       "      <td>USGS1-50.docx</td>\n",
       "      <td>Casa Grande Dispatch (AZ)</td>\n",
       "      <td>Legislation would let an Arizona tribe lease C...</td>\n",
       "      <td>False</td>\n",
       "      <td>11-Dec-21</td>\n",
       "      <td>2021.0</td>\n",
       "      <td>NaN</td>\n",
       "      <td>NaN</td>\n",
       "      <td>12.0</td>\n",
       "      <td>2021.0</td>\n",
       "      <td>N</td>\n",
       "      <td>Y</td>\n",
       "      <td>Lower Colorado</td>\n",
       "      <td>150301</td>\n",
       "      <td>15</td>\n",
       "      <td>Colorado River Indian Reservation</td>\n",
       "      <td>NaN</td>\n",
       "      <td>NaN</td>\n",
       "      <td>NaN</td>\n",
       "      <td>NaN</td>\n",
       "      <td>Rural</td>\n",
       "      <td>Water rights more generally</td>\n",
       "      <td>The Colorado River Indian Tribes Water Resilie...</td>\n",
       "      <td>Colorado River Indian Tribes, State Government...</td>\n",
       "      <td>3.0</td>\n",
       "      <td>Event is proposal of the bill, preliminary agr...</td>\n",
       "      <td>NaN</td>\n",
       "      <td>0</td>\n",
       "      <td>0</td>\n",
       "      <td>2</td>\n",
       "      <td>6</td>\n",
       "      <td>0</td>\n",
       "      <td>0</td>\n",
       "      <td>0</td>\n",
       "      <td>0</td>\n",
       "      <td>0</td>\n",
       "      <td>0</td>\n",
       "      <td>6</td>\n",
       "      <td>0</td>\n",
       "      <td>0</td>\n",
       "      <td>0</td>\n",
       "      <td>0</td>\n",
       "      <td>0</td>\n",
       "      <td>0</td>\n",
       "      <td>0</td>\n",
       "      <td>0</td>\n",
       "      <td>0</td>\n",
       "    </tr>\n",
       "    <tr>\n",
       "      <th>4</th>\n",
       "      <td>5</td>\n",
       "      <td>USGS1-50.docx</td>\n",
       "      <td>The Aspen Times (Colorado)</td>\n",
       "      <td>Historically excluded from Colorado River poli...</td>\n",
       "      <td>False</td>\n",
       "      <td>19-Dec-21</td>\n",
       "      <td>2021.0</td>\n",
       "      <td>NaN</td>\n",
       "      <td>NaN</td>\n",
       "      <td>11.0</td>\n",
       "      <td>2021.0</td>\n",
       "      <td>Y</td>\n",
       "      <td>Y</td>\n",
       "      <td>Upper San Juan</td>\n",
       "      <td>140801</td>\n",
       "      <td>14</td>\n",
       "      <td>Southern Ute Indian Reservation</td>\n",
       "      <td>NaN</td>\n",
       "      <td>NaN</td>\n",
       "      <td>NaN</td>\n",
       "      <td>NaN</td>\n",
       "      <td>Rural</td>\n",
       "      <td>Intergovernmental issues</td>\n",
       "      <td>State and federal officials say that Tribal Na...</td>\n",
       "      <td>Sothern Ute Indian Tribe, Ute Mountain Tribe, ...</td>\n",
       "      <td>-1.0</td>\n",
       "      <td>Interaction between tribal nations and state/f...</td>\n",
       "      <td>Lack of tribal representation</td>\n",
       "      <td>0</td>\n",
       "      <td>0</td>\n",
       "      <td>2</td>\n",
       "      <td>6</td>\n",
       "      <td>0</td>\n",
       "      <td>0</td>\n",
       "      <td>0</td>\n",
       "      <td>7</td>\n",
       "      <td>0</td>\n",
       "      <td>0</td>\n",
       "      <td>18</td>\n",
       "      <td>0</td>\n",
       "      <td>0</td>\n",
       "      <td>0</td>\n",
       "      <td>0</td>\n",
       "      <td>0</td>\n",
       "      <td>0</td>\n",
       "      <td>0</td>\n",
       "      <td>0</td>\n",
       "      <td>0</td>\n",
       "    </tr>\n",
       "  </tbody>\n",
       "</table>\n",
       "</div>"
      ],
      "text/plain": [
       "   Event  Search Source                                   Newspaper  \\\n",
       "0      1  USGS1-50.docx               The Durango Herald (Colorado)   \n",
       "1      2  USGS1-50.docx  Journal, The (Cortez, Dolores, Mancos, CO)   \n",
       "2      3  USGS1-50.docx                       The Salt Lake Tribune   \n",
       "3      4  USGS1-50.docx                   Casa Grande Dispatch (AZ)   \n",
       "4      5  USGS1-50.docx                  The Aspen Times (Colorado)   \n",
       "\n",
       "                                       Article Title Duplicate Report Date  \\\n",
       "0  Tribes assert water rights on Colorado River B...     False    7-Apr-22   \n",
       "1  Native American tribes assert water rights on ...     False    7-Apr-22   \n",
       "2  'Very positive change.' New Utah law will be a...     False   17-Mar-22   \n",
       "3  Legislation would let an Arizona tribe lease C...     False   11-Dec-21   \n",
       "4  Historically excluded from Colorado River poli...     False   19-Dec-21   \n",
       "\n",
       "   Report Year Event Date  Event Day  Event Month  Event Year  \\\n",
       "0       2022.0        NaN        NaN          4.0      2022.0   \n",
       "1       2022.0        NaN        NaN          4.0      2022.0   \n",
       "2       2022.0        NaN        NaN          3.0      2022.0   \n",
       "3       2021.0        NaN        NaN         12.0      2021.0   \n",
       "4       2021.0        NaN        NaN         11.0      2021.0   \n",
       "\n",
       "  Conflict Present Crisis Present            Basin    HUC6 HUC2  \\\n",
       "0                Y              N   Upper San Juan  140801   14   \n",
       "1                Y              N   Upper San Juan  140801   14   \n",
       "2                N              Y  Great Salt Lake  160203   16   \n",
       "3                N              Y   Lower Colorado  150301   15   \n",
       "4                Y              Y   Upper San Juan  140801   14   \n",
       "\n",
       "                               Place    County  County FIPS State State FIPS  \\\n",
       "0                        Durango, CO  La Plata       8067.0    CO          8   \n",
       "1                        Durango, CO  La Plata       8067.0    CO          8   \n",
       "2                    Great Salt Lake       NaN          NaN    UT         49   \n",
       "3  Colorado River Indian Reservation       NaN          NaN   NaN        NaN   \n",
       "4    Southern Ute Indian Reservation       NaN          NaN   NaN        NaN   \n",
       "\n",
       "  Urban or Rural                   Issue Type  \\\n",
       "0           Both  Water rights more generally   \n",
       "1           Both  Water rights more generally   \n",
       "2           Both        Instream water rights   \n",
       "3          Rural  Water rights more generally   \n",
       "4          Rural     Intergovernmental issues   \n",
       "\n",
       "                                       Event Summary  \\\n",
       "0  Ute Mountain and Southern Ute representatives ...   \n",
       "1  Ute Mountain and Southern Ute representatives ...   \n",
       "2  A bill is proposed in Utah that would expand t...   \n",
       "3  The Colorado River Indian Tribes Water Resilie...   \n",
       "4  State and federal officials say that Tribal Na...   \n",
       "\n",
       "                                        Stakeholders  Intensity Value  \\\n",
       "0  Tribal Nations, State Government, Federal Gove...              2.0   \n",
       "1  Southern Ute Indian Tribe, Ute Mountain Tribe,...              2.0   \n",
       "2  State Government, Any Water Rights Holder, Agr...              3.0   \n",
       "3  Colorado River Indian Tribes, State Government...              3.0   \n",
       "4  Sothern Ute Indian Tribe, Ute Mountain Tribe, ...             -1.0   \n",
       "\n",
       "                                            Comments  \\\n",
       "0  The article highlights calls for negotiation b...   \n",
       "1  The article highlights calls for negotiation b...   \n",
       "2  The event is the proposal of the bill at the s...   \n",
       "3  Event is proposal of the bill, preliminary agr...   \n",
       "4  Interaction between tribal nations and state/f...   \n",
       "\n",
       "      Related Observation Themes  Article Text Search - water quality  \\\n",
       "0  Lack of tribal representation                                    0   \n",
       "1  Lack of tribal representation                                    0   \n",
       "2         Dishonoring the absent                                    0   \n",
       "3                            NaN                                    0   \n",
       "4  Lack of tribal representation                                    0   \n",
       "\n",
       "   Article Text Search - invasive species  Article Text Search - conservation  \\\n",
       "0                                       0                                   3   \n",
       "1                                       0                                   2   \n",
       "2                                       0                                   1   \n",
       "3                                       0                                   2   \n",
       "4                                       0                                   2   \n",
       "\n",
       "   Article Text Search - drought  Article Text Search - flood  \\\n",
       "0                              7                            0   \n",
       "1                              7                            0   \n",
       "2                              2                            0   \n",
       "3                              6                            0   \n",
       "4                              6                            0   \n",
       "\n",
       "   Article Text Search - ground water depletion  \\\n",
       "0                                             0   \n",
       "1                                             0   \n",
       "2                                             0   \n",
       "3                                             0   \n",
       "4                                             0   \n",
       "\n",
       "   Article Text Search - depletion  Article Text Search - infrastructure  \\\n",
       "0                                0                                     1   \n",
       "1                                0                                     1   \n",
       "2                                0                                     0   \n",
       "3                                0                                     0   \n",
       "4                                0                                     7   \n",
       "\n",
       "   Article Text Search - fish passage  \\\n",
       "0                                   0   \n",
       "1                                   0   \n",
       "2                                   0   \n",
       "3                                   0   \n",
       "4                                   0   \n",
       "\n",
       "   Article Text Search - instream water rights  \\\n",
       "0                                            0   \n",
       "1                                            0   \n",
       "2                                            0   \n",
       "3                                            0   \n",
       "4                                            0   \n",
       "\n",
       "   Article Text Search - water rights  \\\n",
       "0                                  17   \n",
       "1                                  17   \n",
       "2                                  12   \n",
       "3                                   6   \n",
       "4                                  18   \n",
       "\n",
       "   Article Text Search - intergovernmental  \\\n",
       "0                                        0   \n",
       "1                                        0   \n",
       "2                                        0   \n",
       "3                                        0   \n",
       "4                                        0   \n",
       "\n",
       "   Article Text Search - water transfers  Article Text Search - navigation  \\\n",
       "0                                      0                                 0   \n",
       "1                                      0                                 0   \n",
       "2                                      0                                 0   \n",
       "3                                      0                                 0   \n",
       "4                                      0                                 0   \n",
       "\n",
       "   Article Text Search - fish  Article Text Search - invasive  \\\n",
       "0                           0                               0   \n",
       "1                           0                               0   \n",
       "2                           1                               0   \n",
       "3                           0                               0   \n",
       "4                           0                               0   \n",
       "\n",
       "   Article Text Search - diversion  Article Text Search - water diversion  \\\n",
       "0                                0                                      0   \n",
       "1                                0                                      0   \n",
       "2                                0                                      0   \n",
       "3                                0                                      0   \n",
       "4                                0                                      0   \n",
       "\n",
       "   Article Text Search - instream  Article Text Search - aquatic  \n",
       "0                               0                              0  \n",
       "1                               0                              0  \n",
       "2                              12                              1  \n",
       "3                               0                              0  \n",
       "4                               0                              0  "
      ]
     },
     "execution_count": 11,
     "metadata": {},
     "output_type": "execute_result"
    }
   ],
   "source": [
    "# Use pandas methods to obtain preliminary information \n",
    "# and explore this data frame in at least four different ways.\n",
    "\n",
    "df.isna().sum()\n",
    "df.shape\n",
    "df.columns\n",
    "df.dtypes\n",
    "df.head()"
   ]
  },
  {
   "cell_type": "markdown",
   "id": "6b137641-72f2-4a46-b76f-445d696e1c6f",
   "metadata": {},
   "source": [
    "### String Accessor for pandas.series"
   ]
  },
  {
   "cell_type": "code",
   "execution_count": null,
   "id": "779ef9f8-8514-4654-8636-e0acdb035d62",
   "metadata": {
    "tags": []
   },
   "outputs": [],
   "source": [
    "import numpy as np\n",
    "import pandas as pd \n",
    "\n",
    "# Example series\n",
    "s = pd.Series(['California; Nevada', 'Arizona', np.nan, 'Nevada; Utah'])\n",
    "s"
   ]
  },
  {
   "cell_type": "code",
   "execution_count": null,
   "id": "3f87c875-955a-4c44-99d7-099a487d7842",
   "metadata": {
    "tags": []
   },
   "outputs": [],
   "source": [
    "# str accessor (doesn't do anything by itself)\n",
    "s.str"
   ]
  },
  {
   "cell_type": "code",
   "execution_count": null,
   "id": "1811a07c-1fb1-4719-979c-c9e622abc660",
   "metadata": {
    "tags": []
   },
   "outputs": [],
   "source": [
    "# Use str accessor with additional methods to perform string operations\n",
    "# .split splits strings by ';' and expands output into separate columns\n",
    "s.str.split(';', expand=True)"
   ]
  },
  {
   "cell_type": "code",
   "execution_count": null,
   "id": "87cdf479-4011-4142-b8cf-64001f7c6c0a",
   "metadata": {
    "tags": []
   },
   "outputs": [],
   "source": [
    "# Use stack() method to flatten the data frame into a series\n",
    "# default is to drop NAs and None from result\n",
    "d = s.str.split(';', expand=True).stack()\n"
   ]
  },
  {
   "cell_type": "markdown",
   "id": "af5ce47e-828e-40d1-8311-9240fd9aa46c",
   "metadata": {},
   "source": [
    "## Lucian"
   ]
  },
  {
   "cell_type": "markdown",
   "id": "3f5d07e5-8aef-4cfe-a3b8-c521025fa63b",
   "metadata": {},
   "source": [
    "### Examine the state codes"
   ]
  },
  {
   "cell_type": "markdown",
   "id": "34573260-46fe-4d83-9464-44b83b420ae9",
   "metadata": {},
   "source": [
    "What are the unique values in the States column once filtering the dataset for states that have a water conflict? What could be a challenge to writing code to find which states are listed (without repetition)?"
   ]
  },
  {
   "cell_type": "code",
   "execution_count": 16,
   "id": "4186dd36-0e05-4abe-a619-e1f73dd5d830",
   "metadata": {},
   "outputs": [
    {
     "data": {
      "text/plain": [
       "array(['CO', nan, 'AZ', 'OH; UT', 'UT', 'CA', 'AZ; NV', 'CO; UT; WY; NM',\n",
       "       'AZ; CA', 'AZ; UT', 'NV; AZ', 'AZ; CA; CO; NV; NM; UT; WY', 'NV',\n",
       "       'NM', 'UT; CO; WY', 'AZ; NM', 'WY; UT; CO', 'CO; AZ'], dtype=object)"
      ]
     },
     "execution_count": 16,
     "metadata": {},
     "output_type": "execute_result"
    }
   ],
   "source": [
    "df[df['Conflict Present'] == 'Y'].State.unique()\n"
   ]
  },
  {
   "cell_type": "markdown",
   "id": "b8321e62-37de-4bb7-bfb3-15814bed648d",
   "metadata": {},
   "source": [
    "## Jay"
   ]
  },
  {
   "cell_type": "markdown",
   "id": "0651f7b6-890e-4888-b3e6-ec3f54cc7b96",
   "metadata": {},
   "source": [
    "### Exploratory Wrangling"
   ]
  },
  {
   "cell_type": "markdown",
   "id": "d6bedd33-4f46-4bb2-b1b5-faa616bf5a1b",
   "metadata": {},
   "source": [
    "i. select the State column from the df data frame"
   ]
  },
  {
   "cell_type": "code",
   "execution_count": 18,
   "id": "9f10a8ec-6ed2-4fae-8989-0ac5374a73d6",
   "metadata": {
    "tags": []
   },
   "outputs": [
    {
     "data": {
      "text/plain": [
       "0          CO\n",
       "1          CO\n",
       "4         NaN\n",
       "5          AZ\n",
       "7         NaN\n",
       "        ...  \n",
       "257        AZ\n",
       "258        UT\n",
       "260       NaN\n",
       "262        AZ\n",
       "265    AZ; CA\n",
       "Name: State, Length: 145, dtype: object"
      ]
     },
     "execution_count": 18,
     "metadata": {},
     "output_type": "execute_result"
    }
   ],
   "source": [
    "df_conflict = df[df['Conflict Present'] == 'Y']\n",
    "df_conflict['State']"
   ]
  },
  {
   "cell_type": "markdown",
   "id": "14cd0eaf-9477-42b8-a998-08e9c2056f36",
   "metadata": {},
   "source": [
    "ii. split the strings in the column by the delimeter ; into different columns\n"
   ]
  },
  {
   "cell_type": "code",
   "execution_count": 19,
   "id": "ac72e3c7-43d2-47cb-945e-6e203330e26f",
   "metadata": {
    "tags": []
   },
   "outputs": [
    {
     "data": {
      "text/html": [
       "<div>\n",
       "<style scoped>\n",
       "    .dataframe tbody tr th:only-of-type {\n",
       "        vertical-align: middle;\n",
       "    }\n",
       "\n",
       "    .dataframe tbody tr th {\n",
       "        vertical-align: top;\n",
       "    }\n",
       "\n",
       "    .dataframe thead th {\n",
       "        text-align: right;\n",
       "    }\n",
       "</style>\n",
       "<table border=\"1\" class=\"dataframe\">\n",
       "  <thead>\n",
       "    <tr style=\"text-align: right;\">\n",
       "      <th></th>\n",
       "      <th>0</th>\n",
       "      <th>1</th>\n",
       "      <th>2</th>\n",
       "      <th>3</th>\n",
       "      <th>4</th>\n",
       "      <th>5</th>\n",
       "      <th>6</th>\n",
       "    </tr>\n",
       "  </thead>\n",
       "  <tbody>\n",
       "    <tr>\n",
       "      <th>0</th>\n",
       "      <td>CO</td>\n",
       "      <td>None</td>\n",
       "      <td>None</td>\n",
       "      <td>None</td>\n",
       "      <td>None</td>\n",
       "      <td>None</td>\n",
       "      <td>None</td>\n",
       "    </tr>\n",
       "    <tr>\n",
       "      <th>1</th>\n",
       "      <td>CO</td>\n",
       "      <td>None</td>\n",
       "      <td>None</td>\n",
       "      <td>None</td>\n",
       "      <td>None</td>\n",
       "      <td>None</td>\n",
       "      <td>None</td>\n",
       "    </tr>\n",
       "    <tr>\n",
       "      <th>4</th>\n",
       "      <td>NaN</td>\n",
       "      <td>NaN</td>\n",
       "      <td>NaN</td>\n",
       "      <td>NaN</td>\n",
       "      <td>NaN</td>\n",
       "      <td>NaN</td>\n",
       "      <td>NaN</td>\n",
       "    </tr>\n",
       "    <tr>\n",
       "      <th>5</th>\n",
       "      <td>AZ</td>\n",
       "      <td>None</td>\n",
       "      <td>None</td>\n",
       "      <td>None</td>\n",
       "      <td>None</td>\n",
       "      <td>None</td>\n",
       "      <td>None</td>\n",
       "    </tr>\n",
       "    <tr>\n",
       "      <th>7</th>\n",
       "      <td>NaN</td>\n",
       "      <td>NaN</td>\n",
       "      <td>NaN</td>\n",
       "      <td>NaN</td>\n",
       "      <td>NaN</td>\n",
       "      <td>NaN</td>\n",
       "      <td>NaN</td>\n",
       "    </tr>\n",
       "    <tr>\n",
       "      <th>...</th>\n",
       "      <td>...</td>\n",
       "      <td>...</td>\n",
       "      <td>...</td>\n",
       "      <td>...</td>\n",
       "      <td>...</td>\n",
       "      <td>...</td>\n",
       "      <td>...</td>\n",
       "    </tr>\n",
       "    <tr>\n",
       "      <th>257</th>\n",
       "      <td>AZ</td>\n",
       "      <td>None</td>\n",
       "      <td>None</td>\n",
       "      <td>None</td>\n",
       "      <td>None</td>\n",
       "      <td>None</td>\n",
       "      <td>None</td>\n",
       "    </tr>\n",
       "    <tr>\n",
       "      <th>258</th>\n",
       "      <td>UT</td>\n",
       "      <td>None</td>\n",
       "      <td>None</td>\n",
       "      <td>None</td>\n",
       "      <td>None</td>\n",
       "      <td>None</td>\n",
       "      <td>None</td>\n",
       "    </tr>\n",
       "    <tr>\n",
       "      <th>260</th>\n",
       "      <td>NaN</td>\n",
       "      <td>NaN</td>\n",
       "      <td>NaN</td>\n",
       "      <td>NaN</td>\n",
       "      <td>NaN</td>\n",
       "      <td>NaN</td>\n",
       "      <td>NaN</td>\n",
       "    </tr>\n",
       "    <tr>\n",
       "      <th>262</th>\n",
       "      <td>AZ</td>\n",
       "      <td>None</td>\n",
       "      <td>None</td>\n",
       "      <td>None</td>\n",
       "      <td>None</td>\n",
       "      <td>None</td>\n",
       "      <td>None</td>\n",
       "    </tr>\n",
       "    <tr>\n",
       "      <th>265</th>\n",
       "      <td>AZ</td>\n",
       "      <td>CA</td>\n",
       "      <td>None</td>\n",
       "      <td>None</td>\n",
       "      <td>None</td>\n",
       "      <td>None</td>\n",
       "      <td>None</td>\n",
       "    </tr>\n",
       "  </tbody>\n",
       "</table>\n",
       "<p>145 rows × 7 columns</p>\n",
       "</div>"
      ],
      "text/plain": [
       "       0     1     2     3     4     5     6\n",
       "0     CO  None  None  None  None  None  None\n",
       "1     CO  None  None  None  None  None  None\n",
       "4    NaN   NaN   NaN   NaN   NaN   NaN   NaN\n",
       "5     AZ  None  None  None  None  None  None\n",
       "7    NaN   NaN   NaN   NaN   NaN   NaN   NaN\n",
       "..   ...   ...   ...   ...   ...   ...   ...\n",
       "257   AZ  None  None  None  None  None  None\n",
       "258   UT  None  None  None  None  None  None\n",
       "260  NaN   NaN   NaN   NaN   NaN   NaN   NaN\n",
       "262   AZ  None  None  None  None  None  None\n",
       "265   AZ    CA  None  None  None  None  None\n",
       "\n",
       "[145 rows x 7 columns]"
      ]
     },
     "execution_count": 19,
     "metadata": {},
     "output_type": "execute_result"
    }
   ],
   "source": [
    "# Split the strings in the column by the delimeter ; into different columns\n",
    "df_conflict['State'].str.split('; ', expand = True)"
   ]
  },
  {
   "cell_type": "markdown",
   "id": "63ce0a35-1273-4236-97e6-210f4b3d68a8",
   "metadata": {},
   "source": [
    "iii. Stack the results of the resulting data frame into a single pandas.Series\n"
   ]
  },
  {
   "cell_type": "code",
   "execution_count": 20,
   "id": "1957ae83-1d0f-4252-9988-461831e4ad17",
   "metadata": {
    "tags": []
   },
   "outputs": [
    {
     "data": {
      "text/plain": [
       "0    0    CO\n",
       "1    0    CO\n",
       "5    0    AZ\n",
       "11   0    OH\n",
       "     1    UT\n",
       "          ..\n",
       "257  0    AZ\n",
       "258  0    UT\n",
       "262  0    AZ\n",
       "265  0    AZ\n",
       "     1    CA\n",
       "Length: 132, dtype: object"
      ]
     },
     "execution_count": 20,
     "metadata": {},
     "output_type": "execute_result"
    }
   ],
   "source": [
    "# Stack the results of the resulting data frame into a single pandas.Series\n",
    "df_conflict['State'].str.split('; ', expand = True).stack()"
   ]
  },
  {
   "cell_type": "markdown",
   "id": "af193d28-faa5-4a6c-aa27-5ca7f162698b",
   "metadata": {},
   "source": [
    "## Marie"
   ]
  },
  {
   "cell_type": "markdown",
   "id": "c55b5a54-977a-4002-9ae2-cb7e576482e4",
   "metadata": {
    "tags": []
   },
   "source": [
    "### Find unique state codes"
   ]
  },
  {
   "cell_type": "markdown",
   "id": "684415c4-8578-4c12-ac3f-0f3bd090c6da",
   "metadata": {},
   "source": [
    "iv. find the unique string values in the resulting series"
   ]
  },
  {
   "cell_type": "code",
   "execution_count": 21,
   "id": "98ed0ad8-645e-469d-b0a8-6f7db1f5b333",
   "metadata": {
    "tags": []
   },
   "outputs": [
    {
     "data": {
      "text/plain": [
       "array(['CO', 'AZ', 'OH', 'UT', 'CA', 'NV', 'WY', 'NM'], dtype=object)"
      ]
     },
     "execution_count": 21,
     "metadata": {},
     "output_type": "execute_result"
    }
   ],
   "source": [
    "# Update your code to obtain a list of codes (without repetition) of the states mentioned \n",
    "# in the news articles about water conflicts in the Colorado River Basin. \n",
    "# Hint: str.strip().\n",
    "df_conflict['State'].str.split('; ', expand = True).stack().unique()"
   ]
  },
  {
   "cell_type": "markdown",
   "id": "4d8eda03-162f-4898-959c-9b588c5b8c73",
   "metadata": {},
   "source": [
    "### Bonus! "
   ]
  },
  {
   "cell_type": "markdown",
   "id": "af8c3d58-8974-453a-927a-f6c135a82c81",
   "metadata": {},
   "source": [
    "How many articles mention each state?"
   ]
  },
  {
   "cell_type": "code",
   "execution_count": 22,
   "id": "91177db5-cd8f-454d-b684-1f2b3e1e0c70",
   "metadata": {
    "tags": []
   },
   "outputs": [
    {
     "data": {
      "text/plain": [
       "AZ    45\n",
       "UT    29\n",
       "CO    22\n",
       "NV    12\n",
       "NM    10\n",
       "CA     7\n",
       "WY     6\n",
       "OH     1\n",
       "Name: count, dtype: int64"
      ]
     },
     "execution_count": 22,
     "metadata": {},
     "output_type": "execute_result"
    }
   ],
   "source": [
    "#Bonus: How many articles mention each state?\n",
    "\n",
    "df_conflict['State'].str.split('; ', expand = True).stack().value_counts()"
   ]
  },
  {
   "cell_type": "code",
   "execution_count": null,
   "id": "07914896-eb5e-4344-8f8f-a46f3636fd65",
   "metadata": {},
   "outputs": [],
   "source": []
  }
 ],
 "metadata": {
  "kernelspec": {
   "display_name": "EDS220",
   "language": "python",
   "name": "eds220-env"
  },
  "language_info": {
   "codemirror_mode": {
    "name": "ipython",
    "version": 3
   },
   "file_extension": ".py",
   "mimetype": "text/x-python",
   "name": "python",
   "nbconvert_exporter": "python",
   "pygments_lexer": "ipython3",
   "version": "3.11.4"
  }
 },
 "nbformat": 4,
 "nbformat_minor": 5
}
