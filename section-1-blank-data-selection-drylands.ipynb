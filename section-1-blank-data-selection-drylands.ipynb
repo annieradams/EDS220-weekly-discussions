{
 "cells": [
  {
   "cell_type": "markdown",
   "id": "1b4f9e81-e86b-4a6b-8c85-99851260bd27",
   "metadata": {
    "tags": []
   },
   "source": [
    "### Archive Exploration"
   ]
  },
  {
   "cell_type": "markdown",
   "id": "76e0c74c-0064-4f7f-ae99-01e381811125",
   "metadata": {},
   "source": [
    "When possible, data exploration should start at the data repository. Take some time to look through the dataset’s description in the KNB data repository. Discuss the following questions with your team:\n",
    "\n",
    "1. What is this data about?\n",
    "2. Is this data collected in-situ by the authors or is it a synthesis of multiple datasets?\n",
    "3. During what time frame were the observations in the dataset collected?\n",
    "4. Does this dataset come with an associated metadata file?\n",
    "5. Does the dataset contain sensitive data?\n",
    "\n",
    "In your notebook: use a markdown cell to add a brief description of the dataset, including a citation, date of access, and a link to the archive."
   ]
  },
  {
   "cell_type": "markdown",
   "id": "29e40ba9-76c6-411c-bd83-81ae71099192",
   "metadata": {},
   "source": [
    "### Metadata Exploration"
   ]
  },
  {
   "cell_type": "code",
   "execution_count": null,
   "id": "28a7be3c-ce8e-452e-a5c7-665d23a8ff8c",
   "metadata": {},
   "outputs": [],
   "source": []
  },
  {
   "cell_type": "markdown",
   "id": "7d5b728b-6d25-414f-8342-6973f169d4b8",
   "metadata": {},
   "source": [
    "Read in the data from the URL using the `pd.read_csv()` function."
   ]
  },
  {
   "cell_type": "code",
   "execution_count": 1,
   "id": "e93e1e44-d0e0-4072-a38d-45edd5621d1d",
   "metadata": {
    "tags": []
   },
   "outputs": [],
   "source": [
    "import pandas as pd\n",
    "\n",
    "# Access metadata from the repository\n",
    "metadata = pd.read_csv(\"https://knb.ecoinformatics.org/knb/d1/mn/v2/object/urn%3Auuid%3A3baf7289-bf90-4db3-ad11-58785c09b26e\")"
   ]
  },
  {
   "cell_type": "code",
   "execution_count": 2,
   "id": "22a38414-111f-4d9a-9384-6794323d1ad7",
   "metadata": {
    "tags": []
   },
   "outputs": [
    {
     "data": {
      "text/html": [
       "<div>\n",
       "<style scoped>\n",
       "    .dataframe tbody tr th:only-of-type {\n",
       "        vertical-align: middle;\n",
       "    }\n",
       "\n",
       "    .dataframe tbody tr th {\n",
       "        vertical-align: top;\n",
       "    }\n",
       "\n",
       "    .dataframe thead th {\n",
       "        text-align: right;\n",
       "    }\n",
       "</style>\n",
       "<table border=\"1\" class=\"dataframe\">\n",
       "  <thead>\n",
       "    <tr style=\"text-align: right;\">\n",
       "      <th></th>\n",
       "      <th>attribute</th>\n",
       "      <th>description</th>\n",
       "    </tr>\n",
       "  </thead>\n",
       "  <tbody>\n",
       "    <tr>\n",
       "      <th>0</th>\n",
       "      <td>class</td>\n",
       "      <td>taxonomic class of observed organism</td>\n",
       "    </tr>\n",
       "    <tr>\n",
       "      <th>1</th>\n",
       "      <td>order</td>\n",
       "      <td>taxonomic order of observed organism</td>\n",
       "    </tr>\n",
       "    <tr>\n",
       "      <th>2</th>\n",
       "      <td>family</td>\n",
       "      <td>taxonomic family of observed organism</td>\n",
       "    </tr>\n",
       "    <tr>\n",
       "      <th>3</th>\n",
       "      <td>genus</td>\n",
       "      <td>genus name</td>\n",
       "    </tr>\n",
       "    <tr>\n",
       "      <th>4</th>\n",
       "      <td>species</td>\n",
       "      <td>full latin binomial name</td>\n",
       "    </tr>\n",
       "    <tr>\n",
       "      <th>5</th>\n",
       "      <td>lat</td>\n",
       "      <td>latitude of occurrence record in decimal degrees</td>\n",
       "    </tr>\n",
       "    <tr>\n",
       "      <th>6</th>\n",
       "      <td>long</td>\n",
       "      <td>longitude of occurrence record in decimal degrees</td>\n",
       "    </tr>\n",
       "    <tr>\n",
       "      <th>7</th>\n",
       "      <td>eventDate</td>\n",
       "      <td>date and time of observation in YYYY-MM-DD HH:...</td>\n",
       "    </tr>\n",
       "    <tr>\n",
       "      <th>8</th>\n",
       "      <td>day</td>\n",
       "      <td>day of the month of observation</td>\n",
       "    </tr>\n",
       "    <tr>\n",
       "      <th>9</th>\n",
       "      <td>month</td>\n",
       "      <td>month of observation</td>\n",
       "    </tr>\n",
       "    <tr>\n",
       "      <th>10</th>\n",
       "      <td>year</td>\n",
       "      <td>observation year</td>\n",
       "    </tr>\n",
       "    <tr>\n",
       "      <th>11</th>\n",
       "      <td>institutionCode</td>\n",
       "      <td>institution code provided by GBIF (www.gbif.org)</td>\n",
       "    </tr>\n",
       "    <tr>\n",
       "      <th>12</th>\n",
       "      <td>coordinateUncertaintyInMeters</td>\n",
       "      <td>coordinate uncertainty in meters; NA indicate ...</td>\n",
       "    </tr>\n",
       "    <tr>\n",
       "      <th>13</th>\n",
       "      <td>basisOfRecord</td>\n",
       "      <td>type of record provided by GBIF; one of \"HUMAN...</td>\n",
       "    </tr>\n",
       "    <tr>\n",
       "      <th>14</th>\n",
       "      <td>individualCount</td>\n",
       "      <td>number of individuals (if provided) observed f...</td>\n",
       "    </tr>\n",
       "    <tr>\n",
       "      <th>15</th>\n",
       "      <td>datasetKey</td>\n",
       "      <td>unique dataset key provided by GBIF</td>\n",
       "    </tr>\n",
       "    <tr>\n",
       "      <th>16</th>\n",
       "      <td>bio1</td>\n",
       "      <td>annual mean temperature (degrees Celsius, x10)</td>\n",
       "    </tr>\n",
       "    <tr>\n",
       "      <th>17</th>\n",
       "      <td>bio10</td>\n",
       "      <td>mean temperature of warmest quarter (degrees C...</td>\n",
       "    </tr>\n",
       "    <tr>\n",
       "      <th>18</th>\n",
       "      <td>bio11</td>\n",
       "      <td>mean temperature of coldest quarter (degrees C...</td>\n",
       "    </tr>\n",
       "    <tr>\n",
       "      <th>19</th>\n",
       "      <td>bio12</td>\n",
       "      <td>annual precipitation (millimeters (mm))</td>\n",
       "    </tr>\n",
       "    <tr>\n",
       "      <th>20</th>\n",
       "      <td>bio13</td>\n",
       "      <td>precipitation of wettest month (mm)</td>\n",
       "    </tr>\n",
       "    <tr>\n",
       "      <th>21</th>\n",
       "      <td>bio14</td>\n",
       "      <td>precipitation of driest month (mm)</td>\n",
       "    </tr>\n",
       "    <tr>\n",
       "      <th>22</th>\n",
       "      <td>bio15</td>\n",
       "      <td>precipitation seasonality (percent)</td>\n",
       "    </tr>\n",
       "    <tr>\n",
       "      <th>23</th>\n",
       "      <td>bio16</td>\n",
       "      <td>precipitation of wettest quarter (mm)</td>\n",
       "    </tr>\n",
       "    <tr>\n",
       "      <th>24</th>\n",
       "      <td>bio17</td>\n",
       "      <td>precipitation of driest quarter (mm)</td>\n",
       "    </tr>\n",
       "    <tr>\n",
       "      <th>25</th>\n",
       "      <td>bio18</td>\n",
       "      <td>precipitation of warmest quarter (mm)</td>\n",
       "    </tr>\n",
       "    <tr>\n",
       "      <th>26</th>\n",
       "      <td>bio19</td>\n",
       "      <td>precipitation of coldest quarter (mm)</td>\n",
       "    </tr>\n",
       "    <tr>\n",
       "      <th>27</th>\n",
       "      <td>bio2</td>\n",
       "      <td>annual mean diurnal range (degrees Celsius, x10)</td>\n",
       "    </tr>\n",
       "    <tr>\n",
       "      <th>28</th>\n",
       "      <td>bio3</td>\n",
       "      <td>isothermality (percent)</td>\n",
       "    </tr>\n",
       "    <tr>\n",
       "      <th>29</th>\n",
       "      <td>bio4</td>\n",
       "      <td>temperature seasonality (degrees Celsius, x100)</td>\n",
       "    </tr>\n",
       "    <tr>\n",
       "      <th>30</th>\n",
       "      <td>bio5</td>\n",
       "      <td>max temperature of warmest month (degrees Cels...</td>\n",
       "    </tr>\n",
       "    <tr>\n",
       "      <th>31</th>\n",
       "      <td>bio6</td>\n",
       "      <td>min temperature of coldest month (degrees Cels...</td>\n",
       "    </tr>\n",
       "    <tr>\n",
       "      <th>32</th>\n",
       "      <td>bio7</td>\n",
       "      <td>annual temperature range (degrees Celsius, x10)</td>\n",
       "    </tr>\n",
       "    <tr>\n",
       "      <th>33</th>\n",
       "      <td>bio8</td>\n",
       "      <td>mean temperature of wettest month (degrees Cel...</td>\n",
       "    </tr>\n",
       "    <tr>\n",
       "      <th>34</th>\n",
       "      <td>bio9</td>\n",
       "      <td>mean temperature of driest quarter (degrees Ce...</td>\n",
       "    </tr>\n",
       "    <tr>\n",
       "      <th>35</th>\n",
       "      <td>dist</td>\n",
       "      <td>distance to the nearest major road (kilometers...</td>\n",
       "    </tr>\n",
       "    <tr>\n",
       "      <th>36</th>\n",
       "      <td>dem90_hf</td>\n",
       "      <td>elevation (meters); data from the National Ele...</td>\n",
       "    </tr>\n",
       "    <tr>\n",
       "      <th>37</th>\n",
       "      <td>lc_class</td>\n",
       "      <td>landcover classification from the University o...</td>\n",
       "    </tr>\n",
       "    <tr>\n",
       "      <th>38</th>\n",
       "      <td>ndvi</td>\n",
       "      <td>the mean normalized difference vegetation inde...</td>\n",
       "    </tr>\n",
       "    <tr>\n",
       "      <th>39</th>\n",
       "      <td>notes</td>\n",
       "      <td>all bioX variables are from the WorldClim data...</td>\n",
       "    </tr>\n",
       "  </tbody>\n",
       "</table>\n",
       "</div>"
      ],
      "text/plain": [
       "                        attribute  \\\n",
       "0                           class   \n",
       "1                           order   \n",
       "2                          family   \n",
       "3                           genus   \n",
       "4                         species   \n",
       "5                             lat   \n",
       "6                            long   \n",
       "7                       eventDate   \n",
       "8                             day   \n",
       "9                           month   \n",
       "10                           year   \n",
       "11                institutionCode   \n",
       "12  coordinateUncertaintyInMeters   \n",
       "13                  basisOfRecord   \n",
       "14                individualCount   \n",
       "15                     datasetKey   \n",
       "16                           bio1   \n",
       "17                          bio10   \n",
       "18                          bio11   \n",
       "19                          bio12   \n",
       "20                          bio13   \n",
       "21                          bio14   \n",
       "22                          bio15   \n",
       "23                          bio16   \n",
       "24                          bio17   \n",
       "25                          bio18   \n",
       "26                          bio19   \n",
       "27                           bio2   \n",
       "28                           bio3   \n",
       "29                           bio4   \n",
       "30                           bio5   \n",
       "31                           bio6   \n",
       "32                           bio7   \n",
       "33                           bio8   \n",
       "34                           bio9   \n",
       "35                           dist   \n",
       "36                       dem90_hf   \n",
       "37                       lc_class   \n",
       "38                           ndvi   \n",
       "39                          notes   \n",
       "\n",
       "                                          description  \n",
       "0                taxonomic class of observed organism  \n",
       "1                taxonomic order of observed organism  \n",
       "2               taxonomic family of observed organism  \n",
       "3                                          genus name  \n",
       "4                            full latin binomial name  \n",
       "5    latitude of occurrence record in decimal degrees  \n",
       "6   longitude of occurrence record in decimal degrees  \n",
       "7   date and time of observation in YYYY-MM-DD HH:...  \n",
       "8                     day of the month of observation  \n",
       "9                                month of observation  \n",
       "10                                   observation year  \n",
       "11   institution code provided by GBIF (www.gbif.org)  \n",
       "12  coordinate uncertainty in meters; NA indicate ...  \n",
       "13  type of record provided by GBIF; one of \"HUMAN...  \n",
       "14  number of individuals (if provided) observed f...  \n",
       "15                unique dataset key provided by GBIF  \n",
       "16     annual mean temperature (degrees Celsius, x10)  \n",
       "17  mean temperature of warmest quarter (degrees C...  \n",
       "18  mean temperature of coldest quarter (degrees C...  \n",
       "19            annual precipitation (millimeters (mm))  \n",
       "20                precipitation of wettest month (mm)  \n",
       "21                 precipitation of driest month (mm)  \n",
       "22                precipitation seasonality (percent)  \n",
       "23              precipitation of wettest quarter (mm)  \n",
       "24               precipitation of driest quarter (mm)  \n",
       "25              precipitation of warmest quarter (mm)  \n",
       "26              precipitation of coldest quarter (mm)  \n",
       "27   annual mean diurnal range (degrees Celsius, x10)  \n",
       "28                            isothermality (percent)  \n",
       "29    temperature seasonality (degrees Celsius, x100)  \n",
       "30  max temperature of warmest month (degrees Cels...  \n",
       "31  min temperature of coldest month (degrees Cels...  \n",
       "32    annual temperature range (degrees Celsius, x10)  \n",
       "33  mean temperature of wettest month (degrees Cel...  \n",
       "34  mean temperature of driest quarter (degrees Ce...  \n",
       "35  distance to the nearest major road (kilometers...  \n",
       "36  elevation (meters); data from the National Ele...  \n",
       "37  landcover classification from the University o...  \n",
       "38  the mean normalized difference vegetation inde...  \n",
       "39  all bioX variables are from the WorldClim data...  "
      ]
     },
     "execution_count": 2,
     "metadata": {},
     "output_type": "execute_result"
    }
   ],
   "source": [
    "# View metadata\n",
    "metadata"
   ]
  },
  {
   "cell_type": "markdown",
   "id": "4000f440-8ada-4d0f-9bec-9b5bdba3f414",
   "metadata": {},
   "source": [
    "### Data Loading"
   ]
  },
  {
   "cell_type": "code",
   "execution_count": 3,
   "id": "d2fc81cc-4454-400b-9ef1-cb1a7ec9062a",
   "metadata": {
    "tags": []
   },
   "outputs": [],
   "source": [
    "# Import prey data\n",
    "prey = pd.read_csv('https://knb.ecoinformatics.org/knb/d1/mn/v2/object/urn%3Auuid%3A23d42528-1048-45d4-85d1-7e13b666e744')"
   ]
  },
  {
   "cell_type": "code",
   "execution_count": 4,
   "id": "e78bbc2e-fca4-43cc-a7d4-a2b773be9b2f",
   "metadata": {
    "tags": []
   },
   "outputs": [
    {
     "data": {
      "text/plain": [
       "pandas.core.frame.DataFrame"
      ]
     },
     "execution_count": 4,
     "metadata": {},
     "output_type": "execute_result"
    }
   ],
   "source": [
    "# What type of variable is prey? \n"
   ]
  },
  {
   "cell_type": "code",
   "execution_count": 10,
   "id": "5f38bb11-5c52-4354-bc27-6409f155f64b",
   "metadata": {
    "tags": []
   },
   "outputs": [],
   "source": [
    "# View the head of the dataframe\n"
   ]
  },
  {
   "cell_type": "markdown",
   "id": "2986e8a9-7941-4d73-98f0-ea1a455dc2bc",
   "metadata": {},
   "source": [
    "### Look at your data"
   ]
  },
  {
   "cell_type": "code",
   "execution_count": 1,
   "id": "53073c40-db03-432f-9514-d1984c1e779f",
   "metadata": {
    "tags": []
   },
   "outputs": [],
   "source": [
    "# Update option to see all columns\n",
    "\n"
   ]
  },
  {
   "cell_type": "markdown",
   "id": "db549e5a-7857-4939-881b-cd92ff7ae153",
   "metadata": {},
   "source": [
    "# Isabella "
   ]
  },
  {
   "cell_type": "markdown",
   "id": "baf118e5-eb59-4fd3-9fa1-98559ffc03a9",
   "metadata": {},
   "source": [
    "### Preliminary Exploration"
   ]
  },
  {
   "cell_type": "code",
   "execution_count": 2,
   "id": "9425ede2-ed83-4a4d-8077-7fc04be36e0d",
   "metadata": {
    "tags": []
   },
   "outputs": [],
   "source": [
    " # View the first 5 rows of the dataframe\n"
   ]
  },
  {
   "cell_type": "code",
   "execution_count": 3,
   "id": "1a45e452-a4b2-4787-bfb8-5bb6b2d97e9c",
   "metadata": {
    "tags": []
   },
   "outputs": [],
   "source": [
    " # View the last 5 rows of the datafrmae\n"
   ]
  },
  {
   "cell_type": "code",
   "execution_count": 4,
   "id": "7b7210c4-9c2b-452c-a12e-39d5f1e0f1ed",
   "metadata": {
    "tags": []
   },
   "outputs": [],
   "source": [
    "# .info()\n"
   ]
  },
  {
   "cell_type": "code",
   "execution_count": 5,
   "id": "d3c20d05-8059-4cf6-baeb-66708fbebd2a",
   "metadata": {
    "tags": []
   },
   "outputs": [],
   "source": [
    "# nunique()\n"
   ]
  },
  {
   "cell_type": "code",
   "execution_count": 6,
   "id": "e7be0d5a-dd5f-49e2-94b8-d8b9cfddd63d",
   "metadata": {
    "tags": []
   },
   "outputs": [],
   "source": [
    "# What optional parameters does head have? \n",
    "\n"
   ]
  },
  {
   "cell_type": "code",
   "execution_count": 7,
   "id": "9cbefffd-ec9f-47fd-8ac4-917ba7d486ed",
   "metadata": {
    "tags": []
   },
   "outputs": [],
   "source": [
    " # Look at the shape of the dataframe \n",
    "    \n"
   ]
  },
  {
   "cell_type": "code",
   "execution_count": 8,
   "id": "f4a32e49-a457-43e1-a2b3-bc4843b4323c",
   "metadata": {
    "tags": []
   },
   "outputs": [],
   "source": [
    "# Look at the columns of the dataframe\n",
    "\n"
   ]
  },
  {
   "cell_type": "code",
   "execution_count": 9,
   "id": "ab1258e4-7995-4156-8da7-d4fe39a1610e",
   "metadata": {
    "tags": []
   },
   "outputs": [],
   "source": [
    "# Look at the types of the columns\n"
   ]
  },
  {
   "cell_type": "markdown",
   "id": "a25655a3-12a0-4ec6-ab54-411367edb20c",
   "metadata": {},
   "source": [
    "# Ava"
   ]
  },
  {
   "cell_type": "markdown",
   "id": "04dfc585-5973-4d11-b26a-2ac396796b07",
   "metadata": {},
   "source": [
    "### Update column names"
   ]
  },
  {
   "cell_type": "markdown",
   "id": "ef246b7a-894d-48ef-8186-b3b309b02604",
   "metadata": {},
   "source": [
    "Change the column names of institutionCode and datasetKey to institution_code and dataset_key, respectively. Make sure you’re actually updating the dataframe. HINT: look for the documentation on the rename method for pandas.DataFrames."
   ]
  },
  {
   "cell_type": "code",
   "execution_count": 15,
   "id": "bb42ae33-a944-400b-b002-5477b4e21270",
   "metadata": {
    "tags": []
   },
   "outputs": [],
   "source": [
    "# Rename column names \n"
   ]
  },
  {
   "cell_type": "code",
   "execution_count": null,
   "id": "b305d625-0a6b-4d0b-8cc6-f2b9acb34d76",
   "metadata": {
    "tags": []
   },
   "outputs": [],
   "source": []
  },
  {
   "cell_type": "markdown",
   "id": "62fa0846-d17c-43b0-9a8e-e6b1697cf3fa",
   "metadata": {},
   "source": [
    "# Megan"
   ]
  },
  {
   "cell_type": "markdown",
   "id": "f295f2b1-38b9-4680-b71f-cd7395f849b8",
   "metadata": {},
   "source": [
    "## 7. Subsetting"
   ]
  },
  {
   "cell_type": "markdown",
   "id": "466b8acc-7e82-4bf0-a592-b7df813dbde4",
   "metadata": {
    "tags": []
   },
   "source": [
    "1. Select only the preservered specimes from `prey`. \n"
   ]
  },
  {
   "cell_type": "code",
   "execution_count": null,
   "id": "9b5c8e63-2845-4b2e-8bc5-f909dc5d4fbe",
   "metadata": {
    "tags": []
   },
   "outputs": [],
   "source": []
  },
  {
   "cell_type": "markdown",
   "id": "77569676-c51a-4019-9f49-c06d9bd26983",
   "metadata": {},
   "source": [
    "2. Select observations between 1992 and 2000\n"
   ]
  },
  {
   "cell_type": "code",
   "execution_count": null,
   "id": "d6608535-6761-4d51-89a1-3fc8519a9bf8",
   "metadata": {
    "tags": []
   },
   "outputs": [],
   "source": []
  },
  {
   "cell_type": "markdown",
   "id": "dc195338-b377-4d1f-9baf-69af71dbfdea",
   "metadata": {},
   "source": [
    "3. Select all rows for columns `species` and `eventDate`."
   ]
  },
  {
   "cell_type": "code",
   "execution_count": null,
   "id": "4530656a-e794-4e12-b7ed-f1194340db48",
   "metadata": {
    "tags": []
   },
   "outputs": [],
   "source": []
  },
  {
   "cell_type": "markdown",
   "id": "013bec29-54c6-4f8d-80e1-0b45451340db",
   "metadata": {
    "tags": []
   },
   "source": [
    "4. Select observations that are between 37  &deg;  and 39 &deg; latitude ( inclusive of both 37 and 39)"
   ]
  },
  {
   "cell_type": "code",
   "execution_count": null,
   "id": "4f90d58b-8e2c-40a0-ac5c-0656663622be",
   "metadata": {
    "tags": []
   },
   "outputs": [],
   "source": [
    "\n"
   ]
  }
 ],
 "metadata": {
  "kernelspec": {
   "display_name": "EDS220",
   "language": "python",
   "name": "eds220-env"
  },
  "language_info": {
   "codemirror_mode": {
    "name": "ipython",
    "version": 3
   },
   "file_extension": ".py",
   "mimetype": "text/x-python",
   "name": "python",
   "nbconvert_exporter": "python",
   "pygments_lexer": "ipython3",
   "version": "3.11.4"
  }
 },
 "nbformat": 4,
 "nbformat_minor": 5
}
